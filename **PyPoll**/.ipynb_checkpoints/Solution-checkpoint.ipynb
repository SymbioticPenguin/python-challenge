{
 "cells": [
  {
   "cell_type": "code",
   "execution_count": 1,
   "metadata": {},
   "outputs": [],
   "source": [
    "import os, csv\n",
    "\n",
    "file_name = \"election_data.csv\"\n",
    "\n",
    "with open(file_name,'r') as csvfile:\n",
    "    reader = csv.reader(csvfile, delimiter = ',')\n",
    "    votes = []\n",
    "    header = next(reader)\n",
    "    \n",
    "    for row in reader:\n",
    "        votes.append(row[2])"
   ]
  },
  {
   "cell_type": "code",
   "execution_count": 2,
   "metadata": {},
   "outputs": [],
   "source": [
    "candidates = list(set(votes))\n",
    "\n",
    "counts = []\n",
    "for i in range(len(candidates)):\n",
    "    vote_count = [voter for voter in votes if voter == candidates[i]]\n",
    "    counts.append(len(vote_count))\n",
    "# print(counts)"
   ]
  },
  {
   "cell_type": "code",
   "execution_count": 5,
   "metadata": {},
   "outputs": [
    {
     "data": {
      "text/plain": [
       "67"
      ]
     },
     "execution_count": 5,
     "metadata": {},
     "output_type": "execute_result"
    }
   ],
   "source": [
    "new_file = open(\"Result.txt\",\"w+\")\n",
    "new_file.write(f'Election Results \\n------------------------- \\nTotal Votes: {sum(counts)} \\n-------------------------\\n')\n",
    "for i in range(len(candidates)):\n",
    "    new_file.write(f'{candidates[i]}: {round(counts[i]/sum(counts)*100,3)}% ({counts[i]})\\n')\n",
    "new_file.write(f'------------------------- \\nWinner: {candidates[counts.index(max(counts))]} \\n-------------------------\\n')"
   ]
  },
  {
   "cell_type": "code",
   "execution_count": 4,
   "metadata": {},
   "outputs": [
    {
     "name": "stdout",
     "output_type": "stream",
     "text": [
      "Election Results \n",
      "------------------------- \n",
      "Total Votes: 3521001 \n",
      "-------------------------\n",
      "O'Tooley: 3.0% (105630)\n",
      "Correy: 20.0% (704200)\n",
      "Khan: 63.0% (2218231)\n",
      "Li: 14.0% (492940)\n",
      "------------------------- \n",
      "Winner: Khan \n",
      "-------------------------\n"
     ]
    }
   ],
   "source": [
    "print(f'Election Results \\n------------------------- \\nTotal Votes: {sum(counts)} \\n-------------------------')\n",
    "for i in range(len(candidates)):\n",
    "    print(f'{candidates[i]}: {round(counts[i]/sum(counts)*100,3)}% ({counts[i]})')\n",
    "print(f'------------------------- \\nWinner: {candidates[counts.index(max(counts))]} \\n-------------------------')"
   ]
  },
  {
   "cell_type": "code",
   "execution_count": null,
   "metadata": {},
   "outputs": [],
   "source": []
  }
 ],
 "metadata": {
  "kernelspec": {
   "display_name": "Python 3",
   "language": "python",
   "name": "python3"
  },
  "language_info": {
   "codemirror_mode": {
    "name": "ipython",
    "version": 3
   },
   "file_extension": ".py",
   "mimetype": "text/x-python",
   "name": "python",
   "nbconvert_exporter": "python",
   "pygments_lexer": "ipython3",
   "version": "3.7.4"
  }
 },
 "nbformat": 4,
 "nbformat_minor": 2
}
