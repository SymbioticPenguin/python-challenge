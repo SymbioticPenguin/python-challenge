{
 "cells": [
  {
   "cell_type": "code",
   "execution_count": 1,
   "metadata": {},
   "outputs": [],
   "source": [
    "import os, csv\n",
    "import numpy as py\n",
    "financials_csv = \"budget_data.csv\"\n",
    "\n",
    "with open(financials_csv,'r') as csvfile:\n",
    "    \n",
    "    # Read file and create lists to store all variables for easy access #\n",
    "    reader = csv.reader(csvfile,delimiter = ',')\n",
    "    summation = 0\n",
    "    count = 0\n",
    "    prices = []\n",
    "    months = []\n",
    "    header = next(reader)\n",
    "    \n",
    "    # 'count' will be the total months and 'summation' will aggregate the profit/losses #\n",
    "    for row in reader:\n",
    "        count += 1\n",
    "        summation = summation + int(row[1])\n",
    "        prices.append(int(row[1]))\n",
    "        months.append(row[0])"
   ]
  },
  {
   "cell_type": "code",
   "execution_count": 2,
   "metadata": {},
   "outputs": [],
   "source": [
    "# The 'changes' variable will store the increases/decreases month-to-month #\n",
    "changes = []\n",
    "\n",
    "for i in range(len(prices)-1):\n",
    "    changes.append(prices[i+1]-prices[i])\n",
    "\n",
    "max_index = changes.index(max(changes))\n",
    "min_index = changes.index(min(changes))"
   ]
  },
  {
   "cell_type": "code",
   "execution_count": 3,
   "metadata": {},
   "outputs": [
    {
     "name": "stdout",
     "output_type": "stream",
     "text": [
      "Financial Analysis \n",
      "--------------------------- \n",
      "Total Months: 86 \n",
      "Total: $38382578 \n",
      "Average Change: $-2315.12 \n",
      "Greatest Increase in Profits: Feb-2012 ($1926159) \n",
      "Greatest Decrease in Profits: Sep-2013 ($-2196167)\n"
     ]
    }
   ],
   "source": [
    "# Print results to console #\n",
    "print(f\"Financial Analysis \\n--------------------------- \\nTotal Months: {count} \\nTotal: ${summation} \\nAverage Change: ${round(py.mean(changes),2)} \\nGreatest Increase in Profits: {months[max_index+1]} (${changes[max_index]}) \\nGreatest Decrease in Profits: {months[min_index+1]} (${changes[min_index]})\")"
   ]
  },
  {
   "cell_type": "code",
   "execution_count": 6,
   "metadata": {},
   "outputs": [
    {
     "data": {
      "text/plain": [
       "213"
      ]
     },
     "execution_count": 6,
     "metadata": {},
     "output_type": "execute_result"
    }
   ],
   "source": [
    "# Then Save it to a txt file #\n",
    "new_file = open(\"Result.txt\",\"w+\")\n",
    "new_file.write(f\"Financial Analysis \\n--------------------------- \\nTotal Months: {count} \\nTotal: ${summation} \\nAverage Change: ${round(py.mean(changes),2)} \\nGreatest Increase in Profits: {months[max_index+1]} (${changes[max_index]}) \\nGreatest Decrease in Profits: {months[min_index+1]} (${changes[min_index]})\")"
   ]
  },
  {
   "cell_type": "code",
   "execution_count": null,
   "metadata": {},
   "outputs": [],
   "source": []
  },
  {
   "cell_type": "code",
   "execution_count": null,
   "metadata": {},
   "outputs": [],
   "source": []
  },
  {
   "cell_type": "code",
   "execution_count": null,
   "metadata": {},
   "outputs": [],
   "source": []
  }
 ],
 "metadata": {
  "kernelspec": {
   "display_name": "Python 3",
   "language": "python",
   "name": "python3"
  },
  "language_info": {
   "codemirror_mode": {
    "name": "ipython",
    "version": 3
   },
   "file_extension": ".py",
   "mimetype": "text/x-python",
   "name": "python",
   "nbconvert_exporter": "python",
   "pygments_lexer": "ipython3",
   "version": "3.7.4"
  }
 },
 "nbformat": 4,
 "nbformat_minor": 2
}
